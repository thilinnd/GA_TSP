{
 "cells": [
  {
   "cell_type": "markdown",
   "id": "7358e437",
   "metadata": {},
   "source": [
    "# IMPORT LIBRARIES & DATA"
   ]
  },
  {
   "cell_type": "code",
   "execution_count": null,
   "id": "cab38d13",
   "metadata": {},
   "outputs": [],
   "source": [
    "from GA import solve, solve_rlga, solve_gasa\n",
    "from TSP import compute_distance_matrix, visualize\n",
    "import numpy as np\n",
    "import os\n",
    "import pandas as pd\n",
    "import matplotlib.pyplot as plt\n",
    "from sklearn.metrics import auc\n",
    "import pickle\n",
    "import time"
   ]
  },
  {
   "cell_type": "code",
   "execution_count": 5,
   "id": "b2de1738",
   "metadata": {},
   "outputs": [],
   "source": [
    "\n",
    "file_path = '../data/5_CentralRegion.csv'"
   ]
  },
  {
   "cell_type": "code",
   "execution_count": 6,
   "id": "09ee0058",
   "metadata": {},
   "outputs": [
    {
     "data": {
      "text/plain": [
       "array([['province', 'lat', 'lon'],\n",
       "       ['Thanh Hóa', '19.9781573', '105.4816107'],\n",
       "       ['Nghệ An', '19.1976001', '105.0606760'],\n",
       "       ['Hà Tĩnh', '18.3504832', '105.7623047'],\n",
       "       ['Quảng Bình', '17.5095990', '106.4004452'],\n",
       "       ['Quảng Trị', '16.7897806', '106.9797431'],\n",
       "       ['Thừa Thiên Huế', '16.4639321', '107.5863388'],\n",
       "       ['Quảng Nam', '15.5761698', '108.0527132'],\n",
       "       ['Quảng Ngãi', '14.9953739', '108.6917290'],\n",
       "       ['Bình Định', '14.0779378', '108.9898798'],\n",
       "       ['Phú Yên', '13.1912633', '109.1273678'],\n",
       "       ['Khánh Hòa', '12.2980751', '108.9950386'],\n",
       "       ['Ninh Thuận', '11.6965639', '108.8928476'],\n",
       "       ['Bình Thuận', '11.1041572', '108.1832931'],\n",
       "       ['Kon Tum', '14.6995372', '107.9323831'],\n",
       "       ['Gia Lai', '13.8177445', '108.2004015'],\n",
       "       ['Đắk Lắk', '12.8292274', '108.2999058'],\n",
       "       ['Đắk Nông', '12.2818851', '107.7302484'],\n",
       "       ['Lâm Đồng', '11.6614957', '108.1335279'],\n",
       "       ['Đà Nẵng', '16.0680000', '108.2120000']], dtype=object)"
      ]
     },
     "execution_count": 6,
     "metadata": {},
     "output_type": "execute_result"
    }
   ],
   "source": [
    "locations = pd.read_csv(file_path, header=None).values\n",
    "locations "
   ]
  },
  {
   "cell_type": "code",
   "execution_count": 7,
   "id": "d5e46ca6",
   "metadata": {},
   "outputs": [],
   "source": [
    "locations_numeric = locations[1:, 1:].astype(float)\n",
    "\n",
    "distance_matrix = compute_distance_matrix(locations_numeric)"
   ]
  },
  {
   "cell_type": "code",
   "execution_count": 8,
   "id": "bdb13fef",
   "metadata": {},
   "outputs": [],
   "source": [
    "# Danh sách các thuật toán\n",
    "mutation_algorithms = ['swap', 'scramble', 'inversion', 'insertion']\n",
    "crossover_algorithms = ['order', 'single_point', 'two_point', 'uniform']\n",
    "selection_algorithms = ['elitism', 'tournament', 'rank', 'roulette_wheel']"
   ]
  }
 ],
 "metadata": {
  "kernelspec": {
   "display_name": "base",
   "language": "python",
   "name": "python3"
  },
  "language_info": {
   "codemirror_mode": {
    "name": "ipython",
    "version": 3
   },
   "file_extension": ".py",
   "mimetype": "text/x-python",
   "name": "python",
   "nbconvert_exporter": "python",
   "pygments_lexer": "ipython3",
   "version": "3.9.12"
  }
 },
 "nbformat": 4,
 "nbformat_minor": 5
}
