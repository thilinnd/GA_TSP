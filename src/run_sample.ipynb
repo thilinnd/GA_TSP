{
 "cells": [
  {
   "cell_type": "code",
   "execution_count": 1,
   "id": "eddc32d2",
   "metadata": {},
   "outputs": [],
   "source": [
    "from GA import solve\n",
    "from TSP import compute_distance_matrix, visualize\n",
    "import numpy as np\n",
    "import os\n",
    "import pandas as pd"
   ]
  },
  {
   "cell_type": "code",
   "execution_count": 2,
   "id": "25578148",
   "metadata": {},
   "outputs": [],
   "source": [
    "\n",
    "file_path = '../data/2_SouthEast.csv'"
   ]
  },
  {
   "cell_type": "code",
   "execution_count": 3,
   "id": "cc7302a2",
   "metadata": {},
   "outputs": [
    {
     "data": {
      "text/plain": [
       "array([['province', 'lat', 'lon'],\n",
       "       ['Hồ Chí Minh', '10.7763897', '106.7011391'],\n",
       "       ['Tây Ninh', '11.4019366', '106.1626927'],\n",
       "       ['Bình Phước', '11.7543232', '106.9266473'],\n",
       "       ['Bình Dương', '11.1836551', '106.7031737'],\n",
       "       ['Đồng Nai', '11.0355624', '107.1881076'],\n",
       "       ['Vũng Tàu', '10.3486485', '107.0765028']], dtype=object)"
      ]
     },
     "execution_count": 3,
     "metadata": {},
     "output_type": "execute_result"
    }
   ],
   "source": [
    "locations = pd.read_csv(file_path, header=None).values\n",
    "locations "
   ]
  },
  {
   "cell_type": "code",
   "execution_count": 4,
   "id": "50df1349",
   "metadata": {},
   "outputs": [],
   "source": [
    "locations_numeric = locations[1:, 1:].astype(float)\n",
    "\n",
    "distance_matrix = compute_distance_matrix(locations_numeric)"
   ]
  },
  {
   "cell_type": "code",
   "execution_count": 5,
   "id": "94e5f774",
   "metadata": {},
   "outputs": [],
   "source": [
    "\n",
    "best_distance, best_route, fitness_history = solve(\n",
    "    distance_matrix,\n",
    "    population_size=100,\n",
    "    generations=200,\n",
    "    mutation_rate=0.02,\n",
    "    mutation_algorithm='inversion',\n",
    "    crossover_algorithm='order',\n",
    "    selection_algorithm='tournament'\n",
    ")\n"
   ]
  },
  {
   "cell_type": "code",
   "execution_count": 6,
   "id": "5e0d5bb4",
   "metadata": {},
   "outputs": [
    {
     "name": "stdout",
     "output_type": "stream",
     "text": [
      "Best route: [1, 6, 5, 3, 2, 4, 1]\n",
      "Total distance (km): 426.0223379827621\n"
     ]
    }
   ],
   "source": [
    "\n",
    "# In kết quả\n",
    "print(\"Best route:\", best_route)\n",
    "print(\"Total distance (km):\", best_distance)\n"
   ]
  }
 ],
 "metadata": {
  "kernelspec": {
   "display_name": "base",
   "language": "python",
   "name": "python3"
  },
  "language_info": {
   "codemirror_mode": {
    "name": "ipython",
    "version": 3
   },
   "file_extension": ".py",
   "mimetype": "text/x-python",
   "name": "python",
   "nbconvert_exporter": "python",
   "pygments_lexer": "ipython3",
   "version": "3.9.12"
  }
 },
 "nbformat": 4,
 "nbformat_minor": 5
}
